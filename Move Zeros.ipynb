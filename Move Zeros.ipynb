{
  "nbformat": 4,
  "nbformat_minor": 0,
  "metadata": {
    "colab": {
      "name": "Untitled",
      "provenance": [],
      "collapsed_sections": [],
      "mount_file_id": "1MpPzolidXwErreaN0TvzYHknNPGNJRiH",
      "authorship_tag": "ABX9TyOA/hRkspdTQqYGJ0PDKTGP",
      "include_colab_link": true
    },
    "kernelspec": {
      "name": "python3",
      "display_name": "Python 3"
    },
    "language_info": {
      "name": "python"
    }
  },
  "cells": [
    {
      "cell_type": "markdown",
      "metadata": {
        "id": "view-in-github",
        "colab_type": "text"
      },
      "source": [
        "<a href=\"https://colab.research.google.com/github/MikeHarris-AHAM/LeetchCode/blob/main/Move%20Zeros.ipynb\" target=\"_parent\"><img src=\"https://colab.research.google.com/assets/colab-badge.svg\" alt=\"Open In Colab\"/></a>"
      ]
    },
    {
      "cell_type": "markdown",
      "source": [
        "#  Move Zeroes\n",
        "\n",
        "Given an integer array nums, move all 0's to the end of it while maintaining the relative order of the non-zero elements.\n",
        "\n",
        "##Note\n",
        "you must do this in-place without making a copy of the array."
      ],
      "metadata": {
        "id": "yxCw4Q1Wmh8j"
      }
    },
    {
      "cell_type": "code",
      "source": [
        "def moveZeroes(nums):\n",
        "  NZ = nums.count(0)\n",
        "  for i in range(NZ):\n",
        "    nums.remove(0)\n",
        "  for i in range(NZ):\n",
        "    nums.append(0)\n",
        "  return nums\n",
        "\n",
        "# Example 1\n",
        "nums = [0,1,0,3,12]\n",
        "print(moveZeroes(nums))\n",
        "# Example 2\n",
        "nums = [0]\n",
        "print(moveZeroes(nums))"
      ],
      "metadata": {
        "colab": {
          "base_uri": "https://localhost:8080/"
        },
        "id": "XF_dT7mjmhMc",
        "outputId": "752ad05c-a041-42fd-faae-3c7c247f62df"
      },
      "execution_count": 2,
      "outputs": [
        {
          "output_type": "stream",
          "name": "stdout",
          "text": [
            "[1, 3, 12, 0, 0]\n",
            "[0]\n"
          ]
        }
      ]
    },
    {
      "cell_type": "markdown",
      "source": [
        "##Runtime \n",
        "684 ms, faster than 17.21% of Python3 online submissions for Move Zeroes.\n",
        "\n",
        "##Memory Usage \n",
        "15.5 MB, less than 96.87% of Python3 online submissions for Move Zeroes."
      ],
      "metadata": {
        "id": "l1niBwb3wRp5"
      }
    }
  ]
}