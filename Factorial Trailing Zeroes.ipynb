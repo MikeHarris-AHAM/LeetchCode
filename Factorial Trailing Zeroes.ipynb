{
  "nbformat": 4,
  "nbformat_minor": 0,
  "metadata": {
    "colab": {
      "name": "Untitled0.ipynb",
      "provenance": [],
      "authorship_tag": "ABX9TyOF4iHPhM2Q6A2tmYVapZOu",
      "include_colab_link": true
    },
    "kernelspec": {
      "name": "python3",
      "display_name": "Python 3"
    },
    "language_info": {
      "name": "python"
    }
  },
  "cells": [
    {
      "cell_type": "markdown",
      "metadata": {
        "id": "view-in-github",
        "colab_type": "text"
      },
      "source": [
        "<a href=\"https://colab.research.google.com/github/MikeHarris-AHAM/LeetchCode/blob/main/Factorial%20Trailing%20Zeroes.ipynb\" target=\"_parent\"><img src=\"https://colab.research.google.com/assets/colab-badge.svg\" alt=\"Open In Colab\"/></a>"
      ]
    },
    {
      "cell_type": "markdown",
      "source": [
        "#  Factorial Trailing Zeroes\n",
        "\n",
        "Given an integer n, return the number of trailing zeroes in n!.\n",
        "\n",
        "Note that n! = n * (n - 1) * (n - 2) * ... * 3 * 2 * 1.\n",
        "\n",
        "# Example 1:\n",
        "\n",
        "\n",
        "```\n",
        "Input: n = 3\n",
        "Output: 0\n",
        "Explanation: 3! = 6, no trailing zero.\n",
        "```\n",
        "\n",
        "\n",
        "\n",
        "# Example 2:\n",
        "\n",
        "\n",
        "```\n",
        "Input: n = 5\n",
        "Output: 1\n",
        "Explanation: 5! = 120, one trailing zero.\n",
        "```\n",
        "\n",
        "\n",
        "# Example 3:\n",
        "\n",
        "\n",
        "```\n",
        "Input: n = 0\n",
        "Output: 0\n",
        "```\n",
        "\n",
        "\n",
        "# Constraints:\n",
        "\n",
        "$$ 0 <= n <= 10^4 $$"
      ],
      "metadata": {
        "id": "PVo0uNaQVkG6"
      }
    },
    {
      "cell_type": "code",
      "source": [
        "import math\n",
        "\n",
        "def trailingZeroes(n):\n",
        "    Numb = str(math.factorial(n))[::-1]\n",
        "    zeros = 0;\n",
        "    for char in Numb:\n",
        "        if (int(char) == 0):\n",
        "            zeros = zeros + 1\n",
        "        else:\n",
        "            break\n",
        "    return zeros\n",
        "\n",
        "# Example 1:\n",
        "n = 3\n",
        "print(trailingZeroes(n))\n",
        "# Example 2:\n",
        "n = 5\n",
        "print(trailingZeroes(n))\n",
        "# Example 3:\n",
        "n = 0\n",
        "print(trailingZeroes(n))"
      ],
      "metadata": {
        "colab": {
          "base_uri": "https://localhost:8080/"
        },
        "id": "EI0lhMz6V3mZ",
        "outputId": "02789a26-9507-4ecb-ea30-90b4d37498e6"
      },
      "execution_count": 6,
      "outputs": [
        {
          "output_type": "stream",
          "name": "stdout",
          "text": [
            "0\n",
            "1\n",
            "0\n"
          ]
        }
      ]
    },
    {
      "cell_type": "markdown",
      "source": [
        "# Runtime\n",
        "2734 ms, faster than 13.79% of Python3 online submissions for Factorial Trailing Zeroes.\n",
        "# Memory Usage\n",
        "14.1 MB, less than 8.20% of Python3 online submissions for Factorial Trailing Zeroes."
      ],
      "metadata": {
        "id": "VbiC1lFgWpGy"
      }
    }
  ]
}