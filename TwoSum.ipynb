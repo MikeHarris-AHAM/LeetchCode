{
  "nbformat": 4,
  "nbformat_minor": 0,
  "metadata": {
    "colab": {
      "name": "Untitled",
      "provenance": [],
      "collapsed_sections": [],
      "mount_file_id": "1MpPzolidXwErreaN0TvzYHknNPGNJRiH",
      "authorship_tag": "ABX9TyPhJZwTngb3uGikMFo+nNDd",
      "include_colab_link": true
    },
    "kernelspec": {
      "name": "python3",
      "display_name": "Python 3"
    },
    "language_info": {
      "name": "python"
    }
  },
  "cells": [
    {
      "cell_type": "markdown",
      "metadata": {
        "id": "view-in-github",
        "colab_type": "text"
      },
      "source": [
        "<a href=\"https://colab.research.google.com/github/MikeHarris-AHAM/LeetchCode/blob/main/TwoSum.ipynb\" target=\"_parent\"><img src=\"https://colab.research.google.com/assets/colab-badge.svg\" alt=\"Open In Colab\"/></a>"
      ]
    },
    {
      "cell_type": "markdown",
      "source": [
        "#Two Sum\n",
        "\n",
        "Given an array of integers nums and an integer target, return indices of the two numbers such that they add up to target.\n",
        "\n",
        "You may assume that each input would have exactly one solution, and you may not use the same element twice.\n",
        "\n",
        "You can return the answer in any order.\n",
        "\n",
        " \n",
        "\n",
        "##Example 1:\n",
        "\n",
        "Input: nums = [2,7,11,15], target = 9\n",
        "Output: [0,1]\n",
        "Explanation: Because nums[0] + nums[1] == 9, we return [0, 1].\n",
        "\n",
        "##Example 2:\n",
        "\n",
        "Input: nums = [3,2,4], target = 6\n",
        "Output: [1,2]\n",
        "\n",
        "##Example 3:\n",
        "\n",
        "Input: nums = [3,3], target = 6\n",
        "Output: [0,1]\n",
        " \n",
        "\n",
        "##Constraints:\n",
        "\n",
        "2 <= nums.length <= 104\n",
        "-109 <= nums[i] <= 109\n",
        "-109 <= target <= 109\n",
        "Only one valid answer exists.\n",
        " \n",
        "\n",
        "Follow-up: Can you come up with an algorithm that is less than O(n2) time complexity?"
      ],
      "metadata": {
        "id": "yxCw4Q1Wmh8j"
      }
    },
    {
      "cell_type": "code",
      "source": [
        "import numpy as np\n",
        "\n",
        "def TwoSum(nums, target):\n",
        "  for i in range(len(nums)):\n",
        "    for j in range(i + 1, len(nums)):\n",
        "       if nums[j] == target - nums[i]:\n",
        "        return [i, j]\n",
        "\n",
        "target = 9\n",
        "\n",
        "# Example 1\n",
        "nums = [2,7,11,15]\n",
        "Out = TwoSum(nums, target)\n",
        "print(Out)\n",
        "# Example 2\n",
        "nums = [3,2,4]\n",
        "Out = TwoSum(nums, target)\n",
        "print(Out)\n",
        "# Example 3\n",
        "nums = [3,3]\n",
        "Out = TwoSum(nums, target)\n",
        "print(Out)"
      ],
      "metadata": {
        "colab": {
          "base_uri": "https://localhost:8080/"
        },
        "id": "XF_dT7mjmhMc",
        "outputId": "3170531c-a900-4070-fbc4-815e5a750f25"
      },
      "execution_count": 24,
      "outputs": [
        {
          "output_type": "stream",
          "name": "stdout",
          "text": [
            "[0, 1]\n",
            "None\n",
            "None\n"
          ]
        }
      ]
    },
    {
      "cell_type": "markdown",
      "source": [
        "##Runtime \n",
        "5318 ms, faster than 18.55% of Python3 online submissions for Two Sum.\n",
        "\n",
        "##Memory Usage \n",
        "32.8 MB, less than 9.23% of Python3 online submissions for Two Sum."
      ],
      "metadata": {
        "id": "l1niBwb3wRp5"
      }
    }
  ]
}