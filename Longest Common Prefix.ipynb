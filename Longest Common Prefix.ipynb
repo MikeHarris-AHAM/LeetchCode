{
  "nbformat": 4,
  "nbformat_minor": 0,
  "metadata": {
    "colab": {
      "name": "Untitled",
      "provenance": [],
      "collapsed_sections": [],
      "mount_file_id": "1MpPzolidXwErreaN0TvzYHknNPGNJRiH",
      "authorship_tag": "ABX9TyOzfKRhrHpUq43/0ljxfdK7",
      "include_colab_link": true
    },
    "kernelspec": {
      "name": "python3",
      "display_name": "Python 3"
    },
    "language_info": {
      "name": "python"
    }
  },
  "cells": [
    {
      "cell_type": "markdown",
      "metadata": {
        "id": "view-in-github",
        "colab_type": "text"
      },
      "source": [
        "<a href=\"https://colab.research.google.com/github/MikeHarris-AHAM/LeetchCode/blob/main/Longest%20Common%20Prefix.ipynb\" target=\"_parent\"><img src=\"https://colab.research.google.com/assets/colab-badge.svg\" alt=\"Open In Colab\"/></a>"
      ]
    },
    {
      "cell_type": "markdown",
      "source": [
        "# Longest Common Prefix\n",
        "\n",
        "Write a function to find the longest common prefix string amongst an array of strings. If there is no common prefix, return an empty string \"\".\n",
        "\n",
        "##Example 1:\n",
        "\n",
        "Input: strs = [\"flower\",\"flow\",\"flight\"]\n",
        "\n",
        "Output: \"fl\"\n",
        "\n",
        "##Example 2:\n",
        "\n",
        "Input: strs = [\"dog\",\"racecar\",\"car\"]\n",
        "\n",
        "Output: \"\"\n",
        "\n",
        "##Explanation: \n",
        "\n",
        "There is no common prefix among the input strings.\n",
        " \n",
        "\n",
        "##Constraints:\n",
        "\n",
        "1 <= strs.length <= 200\n",
        "\n",
        "0 <= strs[i].length <= 200\n",
        "\n",
        "strs[i] consists of only lowercase English letters."
      ],
      "metadata": {
        "id": "yxCw4Q1Wmh8j"
      }
    },
    {
      "cell_type": "code",
      "source": [
        "def LCP(strs):\n",
        "  if (strs == \"\" or len(strs) == 0):\n",
        "    return \"\"\n",
        "  for i in range(0,len(strs[0])):\n",
        "    c = strs[0][i];\n",
        "    for j in range(1,len(strs)):\n",
        "      if (i == len(strs[j]) or strs[j][i] != c):\n",
        "        return strs[0][0:i];             \n",
        "  return strs[0]\n",
        "\n",
        "\n",
        "\n",
        "# Example 1\n",
        "strs = [\"flower\",\"flow\",\"flight\"]\n",
        "print(LCP(strs))\n",
        "# Example 2\n",
        "strs = [\"dog\",\"racecar\",\"car\"]\n",
        "print(LCP(strs))\n",
        "# Example 3\n",
        "strs = [\"\"]\n",
        "print(LCP(strs))\n",
        "# Example 4\n",
        "strs = [\"a\"]\n",
        "print(LCP(strs))\n",
        "# Example 5\n",
        "strs = [\"a\",\"ab\"]\n",
        "print(LCP(strs))"
      ],
      "metadata": {
        "colab": {
          "base_uri": "https://localhost:8080/"
        },
        "id": "XF_dT7mjmhMc",
        "outputId": "ee9d52df-cf55-4218-af54-a6123dc5c57b"
      },
      "execution_count": 77,
      "outputs": [
        {
          "output_type": "stream",
          "name": "stdout",
          "text": [
            "fl\n",
            "\n",
            "\n",
            "a\n",
            "a\n"
          ]
        }
      ]
    },
    {
      "cell_type": "markdown",
      "source": [
        "##Runtime \n",
        "33 ms, faster than 95.57% of Python3 online submissions for Longest Common Prefix.\n",
        "\n",
        "\n",
        "##Memory Usage \n",
        "13.8 MB, less than 88.15% of Python3 online submissions for Longest Common Prefix."
      ],
      "metadata": {
        "id": "l1niBwb3wRp5"
      }
    }
  ]
}