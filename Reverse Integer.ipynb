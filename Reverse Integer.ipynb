{
  "nbformat": 4,
  "nbformat_minor": 0,
  "metadata": {
    "colab": {
      "name": "Untitled",
      "provenance": [],
      "collapsed_sections": [],
      "mount_file_id": "1MpPzolidXwErreaN0TvzYHknNPGNJRiH",
      "authorship_tag": "ABX9TyP2yBC+osx/Bcax6T7Q6nWS",
      "include_colab_link": true
    },
    "kernelspec": {
      "name": "python3",
      "display_name": "Python 3"
    },
    "language_info": {
      "name": "python"
    }
  },
  "cells": [
    {
      "cell_type": "markdown",
      "metadata": {
        "id": "view-in-github",
        "colab_type": "text"
      },
      "source": [
        "<a href=\"https://colab.research.google.com/github/MikeHarris-AHAM/LeetchCode/blob/main/Reverse%20Integer.ipynb\" target=\"_parent\"><img src=\"https://colab.research.google.com/assets/colab-badge.svg\" alt=\"Open In Colab\"/></a>"
      ]
    },
    {
      "cell_type": "markdown",
      "source": [
        "#   Reverse Integer\n",
        "\n",
        "Given a signed 32-bit integer x, return x with its digits reversed. If reversing x causes the value to go outside the signed 32-bit integer range [-231, 231 - 1], then return 0.\n",
        "\n",
        "Assume the environment does not allow you to store 64-bit integers (signed or unsigned).\n",
        "\n",
        "Example 1:\n",
        "\n",
        "\n",
        "```\n",
        "Input: x = 123\n",
        "Output: 321\n",
        "```\n",
        "\n",
        "\n",
        "Example 2:\n",
        "\n",
        "\n",
        "```\n",
        "Input: x = -123\n",
        "Output: -321\n",
        "```\n",
        "\n",
        "\n",
        "Example 3:\n",
        "\n",
        "\n",
        "```\n",
        "Input: x = 120\n",
        "Output: 21\n",
        "```\n",
        "\n",
        "\n",
        "## Constraints:\n",
        "\n",
        "$$-2^{31} <= x <= 2^{31} - 1$$\n",
        "\n"
      ],
      "metadata": {
        "id": "yxCw4Q1Wmh8j"
      }
    },
    {
      "cell_type": "code",
      "source": [
        "def reverse(x):\n",
        "    out = 1\n",
        "    buff = \"\"\n",
        "    Num = 0\n",
        "    if (x < -2**31 or x > 2**31 - 1 or x==0):\n",
        "        return 0\n",
        "    else:\n",
        "        if (x > 0):\n",
        "            Num = abs(x)\n",
        "            buff = str(Num)[::-1]\n",
        "            out = int(buff)\n",
        "            out = out * 1\n",
        "            if (out < -2**31 or out > 2**31 - 1 or out==0):\n",
        "                return 0\n",
        "            else:\n",
        "                return out\n",
        "        elif(x < 0):\n",
        "            Num = abs(x)\n",
        "            buff = str(Num)[::-1]\n",
        "            out = int(buff)\n",
        "            out = out * -1\n",
        "            if (out < -2**31 or out > 2**31 - 1 or out==0):\n",
        "                return 0\n",
        "            else:\n",
        "                return out\n",
        "\n",
        "# Example 1\n",
        "x = 123\n",
        "print(reverse(x))\n",
        "# Example 2\n",
        "x = -123\n",
        "print(reverse(x))\n",
        "# Example 3\n",
        "x = x = 120\n",
        "print(reverse(x))"
      ],
      "metadata": {
        "colab": {
          "base_uri": "https://localhost:8080/"
        },
        "id": "XF_dT7mjmhMc",
        "outputId": "419353f9-b1ad-4e66-c326-f34116200ace"
      },
      "execution_count": 1,
      "outputs": [
        {
          "output_type": "stream",
          "name": "stdout",
          "text": [
            "321\n",
            "-321\n",
            "21\n"
          ]
        }
      ]
    },
    {
      "cell_type": "markdown",
      "source": [
        "##Runtime \n",
        "43 ms, faster than 71.14% of Python3 online submissions for Reverse Integer.\n",
        "\n",
        "##Memory Usage \n",
        "13.9 MB, less than 62.97% of Python3 online submissions for Reverse Integer."
      ],
      "metadata": {
        "id": "l1niBwb3wRp5"
      }
    }
  ]
}