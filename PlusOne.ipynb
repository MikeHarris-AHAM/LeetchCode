{
  "nbformat": 4,
  "nbformat_minor": 0,
  "metadata": {
    "colab": {
      "name": "Untitled",
      "provenance": [],
      "collapsed_sections": [],
      "mount_file_id": "1MpPzolidXwErreaN0TvzYHknNPGNJRiH",
      "authorship_tag": "ABX9TyM1bbeOKihdwpOgowCTlq/F",
      "include_colab_link": true
    },
    "kernelspec": {
      "name": "python3",
      "display_name": "Python 3"
    },
    "language_info": {
      "name": "python"
    }
  },
  "cells": [
    {
      "cell_type": "markdown",
      "metadata": {
        "id": "view-in-github",
        "colab_type": "text"
      },
      "source": [
        "<a href=\"https://colab.research.google.com/github/MikeHarris-AHAM/LeetchCode/blob/main/PlusOne.ipynb\" target=\"_parent\"><img src=\"https://colab.research.google.com/assets/colab-badge.svg\" alt=\"Open In Colab\"/></a>"
      ]
    },
    {
      "cell_type": "markdown",
      "source": [
        "# Plus One\n",
        "\n",
        "You are given a large integer represented as an integer array digits, where each digits[i] is the ith digit of the integer. The digits are ordered from most significant to least significant in left-to-right order. The large integer does not contain any leading 0's.\n",
        "\n",
        "Increment the large integer by one and return the resulting array of digits.\n",
        "\n",
        "##Example 1:\n",
        "\n",
        "Input: digits = [1,2,3]\n",
        "\n",
        "Output: [1,2,4]\n",
        "\n",
        "Explanation: The array represents the integer 123.\n",
        "\n",
        "Incrementing by one gives 123 + 1 = 124.\n",
        "\n",
        "Thus, the result should be [1,2,4].\n",
        "\n",
        "##Example 2:\n",
        "\n",
        "Input: digits = [4,3,2,1]\n",
        "\n",
        "Output: [4,3,2,2]\n",
        "\n",
        "Explanation: The array represents the integer 4321.\n",
        "\n",
        "Incrementing by one gives 4321 + 1 = 4322.\n",
        "\n",
        "Thus, the result should be [4,3,2,2].\n",
        "\n",
        "##Example 3:\n",
        "\n",
        "Input: digits = [9]\n",
        "\n",
        "Output: [1,0]\n",
        "\n",
        "##Explanation: \n",
        "\n",
        "The array represents the integer 9.\n",
        "\n",
        "Incrementing by one gives 9 + 1 = 10.\n",
        "\n",
        "Thus, the result should be [1,0].\n",
        " \n",
        "\n",
        "##Constraints:\n",
        "\n",
        "1 <= digits.length <= 100\n",
        "\n",
        "0 <= digits[i] <= 9\n",
        "\n",
        "digits does not contain any leading 0's."
      ],
      "metadata": {
        "id": "yxCw4Q1Wmh8j"
      }
    },
    {
      "cell_type": "code",
      "source": [
        "def PlusOne(digits):\n",
        "  DigLen = len(digits)\n",
        "  MuNumb = \"\"\n",
        "  for dig in digits:\n",
        "    MuNumb = MuNumb + str(dig)\n",
        "  buff = int(MuNumb) + 1\n",
        "  cbuff = str(buff)\n",
        "  out = []\n",
        "  for i in range(len(cbuff)):\n",
        "    out.append(cbuff[i])\n",
        "  return out\n",
        "\n",
        "# Example 1\n",
        "digits = [1,2,3]\n",
        "print(PlusOne(digits))\n",
        "# Example 2\n",
        "digits = [4,3,2,1]\n",
        "print(PlusOne(digits))\n",
        "# Example 3\n",
        "digits = [9]\n",
        "print(PlusOne(digits))"
      ],
      "metadata": {
        "colab": {
          "base_uri": "https://localhost:8080/"
        },
        "id": "XF_dT7mjmhMc",
        "outputId": "a9317816-0040-4d77-d9e7-4590dd5ae28c"
      },
      "execution_count": 79,
      "outputs": [
        {
          "output_type": "stream",
          "name": "stdout",
          "text": [
            "['1', '2', '4']\n",
            "['4', '3', '2', '2']\n",
            "['1', '0']\n"
          ]
        }
      ]
    },
    {
      "cell_type": "markdown",
      "source": [
        "##Runtime \n",
        "57 ms, faster than 32.60% of Python3 online submissions for Plus One.\n",
        "\n",
        "##Memory Usage \n",
        "13.9 MB, less than 58.40% of Python3 online submissions for Plus One"
      ],
      "metadata": {
        "id": "l1niBwb3wRp5"
      }
    }
  ]
}