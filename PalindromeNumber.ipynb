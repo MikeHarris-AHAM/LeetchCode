{
  "nbformat": 4,
  "nbformat_minor": 0,
  "metadata": {
    "colab": {
      "name": "Untitled",
      "provenance": [],
      "collapsed_sections": [],
      "mount_file_id": "1MpPzolidXwErreaN0TvzYHknNPGNJRiH",
      "authorship_tag": "ABX9TyN+BkX/ofQdV/y38NwEJ3Xu",
      "include_colab_link": true
    },
    "kernelspec": {
      "name": "python3",
      "display_name": "Python 3"
    },
    "language_info": {
      "name": "python"
    }
  },
  "cells": [
    {
      "cell_type": "markdown",
      "metadata": {
        "id": "view-in-github",
        "colab_type": "text"
      },
      "source": [
        "<a href=\"https://colab.research.google.com/github/MikeHarris-AHAM/LeetchCode/blob/main/PalindromeNumber.ipynb\" target=\"_parent\"><img src=\"https://colab.research.google.com/assets/colab-badge.svg\" alt=\"Open In Colab\"/></a>"
      ]
    },
    {
      "cell_type": "markdown",
      "source": [
        "#Palindrome Number\n",
        "\n",
        "Given an integer x, return true if x is palindrome integer.\n",
        "\n",
        "An integer is a palindrome when it reads the same backward as forward.\n",
        "\n",
        "For example, 121 is a palindrome while 123 is not.\n",
        " \n",
        "\n",
        "##Example 1:\n",
        "\n",
        "Input: x = 121\n",
        "Output: true\n",
        "Explanation: 121 reads as 121 from left to right and from right to left.\n",
        "\n",
        "##Example 2:\n",
        "\n",
        "Input: x = -121\n",
        "Output: false\n",
        "Explanation: From left to right, it reads -121. From right to left, it becomes 121-. Therefore it is not a palindrome.\n",
        "\n",
        "##Example 3:\n",
        "\n",
        "Input: x = 10\n",
        "Output: false\n",
        "Explanation: Reads 01 from right to left. Therefore it is not a palindrome.\n",
        " \n",
        "\n",
        "##Constraints:\n",
        "\n",
        "-231 <= x <= 231 - 1\n",
        " \n",
        "\n",
        "##Follow up: Could you solve it without converting the integer to a string?"
      ],
      "metadata": {
        "id": "yxCw4Q1Wmh8j"
      }
    },
    {
      "cell_type": "code",
      "source": [
        "\n",
        "def IsPalindrome(num):\n",
        "  if (num < 0):\n",
        "    return False\n",
        "  else:\n",
        "    N = [int(a) for a in str(num)]\n",
        "    RN = N[::-1]\n",
        "    if (N == RN):\n",
        "      return True\n",
        "    else:\n",
        "      return False\n",
        "\n",
        "\n",
        "# Example 1\n",
        "x = 121\n",
        "print(IsPalindrome(x))\n",
        "# Example 2\n",
        "x = -121\n",
        "print(IsPalindrome(x))\n",
        "# Example 3\n",
        "x = 10\n",
        "print(IsPalindrome(x))"
      ],
      "metadata": {
        "colab": {
          "base_uri": "https://localhost:8080/"
        },
        "id": "XF_dT7mjmhMc",
        "outputId": "8d36005e-ad00-4104-8528-f3e7998668d0"
      },
      "execution_count": 44,
      "outputs": [
        {
          "output_type": "stream",
          "name": "stdout",
          "text": [
            "True\n",
            "False\n",
            "False\n"
          ]
        }
      ]
    },
    {
      "cell_type": "markdown",
      "source": [
        "##Runtime \n",
        "324 ms, faster than 5.17% of Python3 online submissions for Palindrome Number.\n",
        "\n",
        "##Memory Usage \n",
        "31.8 MB, less than 16.33% of Python3 online submissions for Palindrome Number."
      ],
      "metadata": {
        "id": "l1niBwb3wRp5"
      }
    }
  ]
}
